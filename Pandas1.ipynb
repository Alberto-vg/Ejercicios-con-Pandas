{
 "cells": [
  {
   "cell_type": "code",
   "execution_count": 3,
   "id": "8e38adcf-de0e-4aaf-a2e1-2e341768bac9",
   "metadata": {
    "scrolled": true
   },
   "outputs": [
    {
     "name": "stdout",
     "output_type": "stream",
     "text": [
      "CSV generado: datos_personas.csv\n",
      "      NOMBRE SEXO  EDAD  PESO\n",
      "0    Lupita1    F    56    54\n",
      "1    Lupita2    F    53    59\n",
      "2    Lupita3    F    62    54\n",
      "3    Lupita4    F    64    54\n",
      "4    Lupita5    F    60    57\n",
      "5    Lupita6    F    57    46\n",
      "6    Lupita7    F    62    47\n",
      "7    Lupita8    F    54    53\n",
      "8    Lupita9    F    56    51\n",
      "9   Lupita10    F    59    58\n",
      "10  Lupita11    F    52    51\n",
      "11  Lupita12    F    56    49\n",
      "12     Juan1    M    60    72\n",
      "13     Juan2    M    60    60\n",
      "14     Juan3    M    57    62\n",
      "15     Juan4    M    54    52\n",
      "16     Juan5    M    53    58\n",
      "17     Juan6    M    57    63\n",
      "18     Juan7    M    57    54\n",
      "19     Juan8    M    52    65\n"
     ]
    }
   ],
   "source": [
    "# ejercicio_pandas\n",
    "import numpy as np\n",
    "import pandas as pd\n",
    "\n",
    "# Semilla (opcional)\n",
    "np.random.seed(42)\n",
    "\n",
    "# Listas de nombres\n",
    "damas = []\n",
    "for i in range(1, 13):\n",
    "    damas.append(\"Lupita\" + str(i))\n",
    "\n",
    "caballeros = []\n",
    "for i in range(1, 9):\n",
    "    caballeros.append(\"Juan\" + str(i))\n",
    "\n",
    "# Unir nombres y crear sexos alineados\n",
    "nombres = damas + caballeros\n",
    "sexos = []\n",
    "for i in range(len(damas)):\n",
    "    sexos.append(\"F\")\n",
    "for i in range(len(caballeros)):\n",
    "    sexos.append(\"M\")\n",
    "\n",
    "# EDADES: enteros uniformes 50–65 (incluye ambos)\n",
    "edades = np.random.randint(50, 66, size=len(nombres))\n",
    "\n",
    "# PESOS: normales por sexo (enteros)\n",
    "# Mujeres: media 56, sd 5; Hombres: media 62, sd 7\n",
    "pesoM = np.random.normal(56, 5, len(damas))\n",
    "pesoH = np.random.normal(62, 7, len(caballeros))\n",
    "\n",
    "# Redondeo a entero\n",
    "pesoM = np.rint(pesoM).astype(int)\n",
    "pesoH = np.rint(pesoH).astype(int)\n",
    "\n",
    "# Vector de 20 pesos alineado con 'nombres'\n",
    "pesos = list(pesoM) + list(pesoH)\n",
    "\n",
    "# Diccionario como en tu idea original\n",
    "datos = {\n",
    "    \"NOMBRE\": nombres,\n",
    "    \"SEXO\": sexos,\n",
    "    \"EDAD\": list(edades),\n",
    "    \"PESO\": pesos\n",
    "}\n",
    "\n",
    "# DataFrame y guardado\n",
    "df = pd.DataFrame(datos)\n",
    "CSV_SALIDA = \"datos_personas.csv\"\n",
    "df.to_csv(CSV_SALIDA, index=False, encoding=\"utf-8\")\n",
    "\n",
    "# Impresión simple\n",
    "print(\"CSV generado:\", CSV_SALIDA)\n",
    "print(df)\n"
   ]
  },
  {
   "cell_type": "code",
   "execution_count": null,
   "id": "c8f5b18d-2a18-4a18-a0e9-5b134aaec3df",
   "metadata": {},
   "outputs": [],
   "source": []
  },
  {
   "cell_type": "code",
   "execution_count": null,
   "id": "b10fdb64-1923-4676-b8e2-b12e0eb393bc",
   "metadata": {},
   "outputs": [],
   "source": []
  },
  {
   "cell_type": "code",
   "execution_count": null,
   "id": "c7c5d5f0-a7cd-47da-9376-a493e089fd16",
   "metadata": {},
   "outputs": [],
   "source": []
  },
  {
   "cell_type": "code",
   "execution_count": null,
   "id": "9e045ca0-0da9-4c1e-8b52-9ecf94cb17b0",
   "metadata": {},
   "outputs": [],
   "source": []
  }
 ],
 "metadata": {
  "kernelspec": {
   "display_name": "Python [conda env:base] *",
   "language": "python",
   "name": "conda-base-py"
  },
  "language_info": {
   "codemirror_mode": {
    "name": "ipython",
    "version": 3
   },
   "file_extension": ".py",
   "mimetype": "text/x-python",
   "name": "python",
   "nbconvert_exporter": "python",
   "pygments_lexer": "ipython3",
   "version": "3.13.5"
  }
 },
 "nbformat": 4,
 "nbformat_minor": 5
}
